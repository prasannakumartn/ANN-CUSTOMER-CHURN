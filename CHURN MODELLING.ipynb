{
 "cells": [
  {
   "cell_type": "code",
   "execution_count": 1,
   "metadata": {},
   "outputs": [],
   "source": [
    "# Importing the libraries\n",
    "import numpy as np\n",
    "import matplotlib.pyplot as plt\n",
    "import pandas as pd"
   ]
  },
  {
   "cell_type": "code",
   "execution_count": 2,
   "metadata": {},
   "outputs": [],
   "source": [
    "# Importing the dataset\n",
    "dataset = pd.read_csv('Churn_Modelling.csv')\n",
    "X = dataset.iloc[:, 3:13].values\n",
    "y = dataset.iloc[:, 13].values"
   ]
  },
  {
   "cell_type": "code",
   "execution_count": 3,
   "metadata": {},
   "outputs": [
    {
     "name": "stderr",
     "output_type": "stream",
     "text": [
      "/Users/prsnasmiles/anaconda3/lib/python3.7/site-packages/sklearn/preprocessing/_encoders.py:415: FutureWarning: The handling of integer data will change in version 0.22. Currently, the categories are determined based on the range [0, max(values)], while in the future they will be determined based on the unique values.\n",
      "If you want the future behaviour and silence this warning, you can specify \"categories='auto'\".\n",
      "In case you used a LabelEncoder before this OneHotEncoder to convert the categories to integers, then you can now use the OneHotEncoder directly.\n",
      "  warnings.warn(msg, FutureWarning)\n",
      "/Users/prsnasmiles/anaconda3/lib/python3.7/site-packages/sklearn/preprocessing/_encoders.py:451: DeprecationWarning: The 'categorical_features' keyword is deprecated in version 0.20 and will be removed in 0.22. You can use the ColumnTransformer instead.\n",
      "  \"use the ColumnTransformer instead.\", DeprecationWarning)\n"
     ]
    }
   ],
   "source": [
    "# Encoding categorical data\n",
    "from sklearn.preprocessing import LabelEncoder, OneHotEncoder\n",
    "labelencoder_X_1 = LabelEncoder()\n",
    "X[:, 1] = labelencoder_X_1.fit_transform(X[:, 1])\n",
    "labelencoder_X_2 = LabelEncoder()\n",
    "X[:, 2] = labelencoder_X_2.fit_transform(X[:, 2])\n",
    "onehotencoder = OneHotEncoder(categorical_features = [1])\n",
    "X = onehotencoder.fit_transform(X).toarray()\n",
    "X = X[:, 1:]"
   ]
  },
  {
   "cell_type": "code",
   "execution_count": 4,
   "metadata": {},
   "outputs": [],
   "source": [
    "# Splitting the dataset into the Training set and Test set\n",
    "from sklearn.model_selection import train_test_split\n",
    "X_train, X_test, y_train, y_test = train_test_split(X, y, test_size = 0.2, random_state = 0)"
   ]
  },
  {
   "cell_type": "code",
   "execution_count": 5,
   "metadata": {},
   "outputs": [],
   "source": [
    "# Feature Scaling\n",
    "from sklearn.preprocessing import StandardScaler\n",
    "sc = StandardScaler()\n",
    "X_train = sc.fit_transform(X_train)\n",
    "X_test = sc.transform(X_test)"
   ]
  },
  {
   "cell_type": "code",
   "execution_count": 8,
   "metadata": {},
   "outputs": [
    {
     "name": "stderr",
     "output_type": "stream",
     "text": [
      "Using TensorFlow backend.\n"
     ]
    }
   ],
   "source": [
    "# Importing the Keras libraries and packages\n",
    "import keras\n",
    "from keras.models import Sequential\n",
    "from keras.layers import Dense"
   ]
  },
  {
   "cell_type": "code",
   "execution_count": 9,
   "metadata": {},
   "outputs": [
    {
     "name": "stderr",
     "output_type": "stream",
     "text": [
      "WARNING: Logging before flag parsing goes to stderr.\n",
      "W0807 01:11:24.682800 4623246784 deprecation_wrapper.py:119] From /Users/prsnasmiles/anaconda3/lib/python3.7/site-packages/keras/backend/tensorflow_backend.py:74: The name tf.get_default_graph is deprecated. Please use tf.compat.v1.get_default_graph instead.\n",
      "\n"
     ]
    }
   ],
   "source": [
    "# Initialising the ANN\n",
    "classifier = Sequential()"
   ]
  },
  {
   "cell_type": "code",
   "execution_count": 10,
   "metadata": {},
   "outputs": [
    {
     "name": "stderr",
     "output_type": "stream",
     "text": [
      "W0807 01:11:26.891415 4623246784 deprecation_wrapper.py:119] From /Users/prsnasmiles/anaconda3/lib/python3.7/site-packages/keras/backend/tensorflow_backend.py:517: The name tf.placeholder is deprecated. Please use tf.compat.v1.placeholder instead.\n",
      "\n",
      "W0807 01:11:26.907299 4623246784 deprecation_wrapper.py:119] From /Users/prsnasmiles/anaconda3/lib/python3.7/site-packages/keras/backend/tensorflow_backend.py:4138: The name tf.random_uniform is deprecated. Please use tf.random.uniform instead.\n",
      "\n",
      "W0807 01:11:26.991422 4623246784 deprecation_wrapper.py:119] From /Users/prsnasmiles/anaconda3/lib/python3.7/site-packages/keras/optimizers.py:790: The name tf.train.Optimizer is deprecated. Please use tf.compat.v1.train.Optimizer instead.\n",
      "\n",
      "W0807 01:11:27.035969 4623246784 deprecation_wrapper.py:119] From /Users/prsnasmiles/anaconda3/lib/python3.7/site-packages/keras/backend/tensorflow_backend.py:3376: The name tf.log is deprecated. Please use tf.math.log instead.\n",
      "\n",
      "W0807 01:11:27.043692 4623246784 deprecation.py:323] From /Users/prsnasmiles/anaconda3/lib/python3.7/site-packages/tensorflow/python/ops/nn_impl.py:180: add_dispatch_support.<locals>.wrapper (from tensorflow.python.ops.array_ops) is deprecated and will be removed in a future version.\n",
      "Instructions for updating:\n",
      "Use tf.where in 2.0, which has the same broadcast rule as np.where\n",
      "W0807 01:11:27.260729 4623246784 deprecation_wrapper.py:119] From /Users/prsnasmiles/anaconda3/lib/python3.7/site-packages/keras/backend/tensorflow_backend.py:986: The name tf.assign_add is deprecated. Please use tf.compat.v1.assign_add instead.\n",
      "\n"
     ]
    },
    {
     "name": "stdout",
     "output_type": "stream",
     "text": [
      "Epoch 1/100\n",
      "8000/8000 [==============================] - 2s 232us/step - loss: 0.4873 - acc: 0.7971 3s - loss:\n",
      "Epoch 2/100\n",
      "8000/8000 [==============================] - 1s 150us/step - loss: 0.4056 - acc: 0.8137\n",
      "Epoch 3/100\n",
      "8000/8000 [==============================] - 1s 153us/step - loss: 0.3752 - acc: 0.8447\n",
      "Epoch 4/100\n",
      "8000/8000 [==============================] - 1s 144us/step - loss: 0.3579 - acc: 0.8562\n",
      "Epoch 5/100\n",
      "8000/8000 [==============================] - 1s 159us/step - loss: 0.3501 - acc: 0.8592\n",
      "Epoch 6/100\n",
      "8000/8000 [==============================] - 1s 147us/step - loss: 0.3467 - acc: 0.8592\n",
      "Epoch 7/100\n",
      "8000/8000 [==============================] - 1s 174us/step - loss: 0.3446 - acc: 0.8606\n",
      "Epoch 8/100\n",
      "8000/8000 [==============================] - 1s 162us/step - loss: 0.3437 - acc: 0.8605 1s - loss:\n",
      "Epoch 9/100\n",
      "8000/8000 [==============================] - 1s 165us/step - loss: 0.3427 - acc: 0.8610\n",
      "Epoch 10/100\n",
      "8000/8000 [==============================] - 1s 161us/step - loss: 0.3417 - acc: 0.8607\n",
      "Epoch 11/100\n",
      "8000/8000 [==============================] - 1s 153us/step - loss: 0.3408 - acc: 0.8619\n",
      "Epoch 12/100\n",
      "8000/8000 [==============================] - 1s 154us/step - loss: 0.3408 - acc: 0.8622\n",
      "Epoch 13/100\n",
      "8000/8000 [==============================] - 1s 148us/step - loss: 0.3394 - acc: 0.8614\n",
      "Epoch 14/100\n",
      "8000/8000 [==============================] - 1s 150us/step - loss: 0.3391 - acc: 0.8615\n",
      "Epoch 15/100\n",
      "8000/8000 [==============================] - 1s 147us/step - loss: 0.3395 - acc: 0.8622\n",
      "Epoch 16/100\n",
      "8000/8000 [==============================] - 1s 150us/step - loss: 0.3387 - acc: 0.8612\n",
      "Epoch 17/100\n",
      "8000/8000 [==============================] - 2s 262us/step - loss: 0.3383 - acc: 0.8624\n",
      "Epoch 18/100\n",
      "8000/8000 [==============================] - 3s 352us/step - loss: 0.3378 - acc: 0.8615\n",
      "Epoch 19/100\n",
      "8000/8000 [==============================] - 3s 385us/step - loss: 0.3379 - acc: 0.8622\n",
      "Epoch 20/100\n",
      "8000/8000 [==============================] - 2s 196us/step - loss: 0.3369 - acc: 0.8637\n",
      "Epoch 21/100\n",
      "8000/8000 [==============================] - 1s 152us/step - loss: 0.3378 - acc: 0.8634\n",
      "Epoch 22/100\n",
      "8000/8000 [==============================] - 1s 150us/step - loss: 0.3369 - acc: 0.8624\n",
      "Epoch 23/100\n",
      "8000/8000 [==============================] - 1s 160us/step - loss: 0.3370 - acc: 0.8617\n",
      "Epoch 24/100\n",
      "8000/8000 [==============================] - 1s 162us/step - loss: 0.3364 - acc: 0.8641\n",
      "Epoch 25/100\n",
      "8000/8000 [==============================] - 2s 204us/step - loss: 0.3363 - acc: 0.8615\n",
      "Epoch 26/100\n",
      "8000/8000 [==============================] - 3s 370us/step - loss: 0.3364 - acc: 0.8612\n",
      "Epoch 27/100\n",
      "8000/8000 [==============================] - 3s 382us/step - loss: 0.3364 - acc: 0.8609\n",
      "Epoch 28/100\n",
      "8000/8000 [==============================] - 3s 342us/step - loss: 0.3362 - acc: 0.8637\n",
      "Epoch 29/100\n",
      "8000/8000 [==============================] - 3s 389us/step - loss: 0.3366 - acc: 0.8637\n",
      "Epoch 30/100\n",
      "8000/8000 [==============================] - 3s 325us/step - loss: 0.3359 - acc: 0.8645\n",
      "Epoch 31/100\n",
      "8000/8000 [==============================] - 1s 174us/step - loss: 0.3368 - acc: 0.8636\n",
      "Epoch 32/100\n",
      "8000/8000 [==============================] - 1s 142us/step - loss: 0.3351 - acc: 0.8636\n",
      "Epoch 33/100\n",
      "8000/8000 [==============================] - 1s 144us/step - loss: 0.3354 - acc: 0.8632\n",
      "Epoch 34/100\n",
      "8000/8000 [==============================] - 2s 196us/step - loss: 0.3352 - acc: 0.8639\n",
      "Epoch 35/100\n",
      "8000/8000 [==============================] - 3s 404us/step - loss: 0.3362 - acc: 0.8621\n",
      "Epoch 36/100\n",
      "8000/8000 [==============================] - 3s 399us/step - loss: 0.3351 - acc: 0.8622\n",
      "Epoch 37/100\n",
      "8000/8000 [==============================] - 3s 387us/step - loss: 0.3360 - acc: 0.8626\n",
      "Epoch 38/100\n",
      "8000/8000 [==============================] - 3s 342us/step - loss: 0.3347 - acc: 0.8649\n",
      "Epoch 39/100\n",
      "8000/8000 [==============================] - 3s 327us/step - loss: 0.3353 - acc: 0.8635\n",
      "Epoch 40/100\n",
      "8000/8000 [==============================] - 3s 319us/step - loss: 0.3348 - acc: 0.8629\n",
      "Epoch 41/100\n",
      "8000/8000 [==============================] - 3s 345us/step - loss: 0.3352 - acc: 0.8637\n",
      "Epoch 42/100\n",
      "8000/8000 [==============================] - 4s 442us/step - loss: 0.3354 - acc: 0.8634\n",
      "Epoch 43/100\n",
      "8000/8000 [==============================] - 3s 389us/step - loss: 0.3348 - acc: 0.8640\n",
      "Epoch 44/100\n",
      "8000/8000 [==============================] - 3s 353us/step - loss: 0.3351 - acc: 0.8630\n",
      "Epoch 45/100\n",
      "8000/8000 [==============================] - 3s 359us/step - loss: 0.3348 - acc: 0.8631\n",
      "Epoch 46/100\n",
      "8000/8000 [==============================] - 3s 342us/step - loss: 0.3348 - acc: 0.8614\n",
      "Epoch 47/100\n",
      "8000/8000 [==============================] - 3s 373us/step - loss: 0.3350 - acc: 0.8631\n",
      "Epoch 48/100\n",
      "8000/8000 [==============================] - 3s 339us/step - loss: 0.3352 - acc: 0.8624\n",
      "Epoch 49/100\n",
      "8000/8000 [==============================] - 2s 309us/step - loss: 0.3348 - acc: 0.8640\n",
      "Epoch 50/100\n",
      "8000/8000 [==============================] - 1s 173us/step - loss: 0.3338 - acc: 0.8635\n",
      "Epoch 51/100\n",
      "8000/8000 [==============================] - 1s 172us/step - loss: 0.3350 - acc: 0.8615\n",
      "Epoch 52/100\n",
      "8000/8000 [==============================] - 1s 161us/step - loss: 0.3342 - acc: 0.8635\n",
      "Epoch 53/100\n",
      "8000/8000 [==============================] - 1s 178us/step - loss: 0.3347 - acc: 0.8620\n",
      "Epoch 54/100\n",
      "8000/8000 [==============================] - 1s 179us/step - loss: 0.3344 - acc: 0.8635 0s - loss: 0.3\n",
      "Epoch 55/100\n",
      "8000/8000 [==============================] - 1s 177us/step - loss: 0.3340 - acc: 0.8616\n",
      "Epoch 56/100\n",
      "8000/8000 [==============================] - 1s 142us/step - loss: 0.3343 - acc: 0.8639\n",
      "Epoch 57/100\n",
      "8000/8000 [==============================] - 1s 137us/step - loss: 0.3342 - acc: 0.8626\n",
      "Epoch 58/100\n",
      "8000/8000 [==============================] - 1s 132us/step - loss: 0.3340 - acc: 0.8646\n",
      "Epoch 59/100\n",
      "8000/8000 [==============================] - 1s 131us/step - loss: 0.3339 - acc: 0.8631\n",
      "Epoch 60/100\n",
      "8000/8000 [==============================] - 1s 130us/step - loss: 0.3342 - acc: 0.8634\n",
      "Epoch 61/100\n",
      "8000/8000 [==============================] - 2s 233us/step - loss: 0.3340 - acc: 0.8626\n",
      "Epoch 62/100\n",
      "8000/8000 [==============================] - 2s 292us/step - loss: 0.3338 - acc: 0.8642\n",
      "Epoch 63/100\n",
      "8000/8000 [==============================] - 3s 317us/step - loss: 0.3343 - acc: 0.8636\n",
      "Epoch 64/100\n",
      "8000/8000 [==============================] - 2s 224us/step - loss: 0.3336 - acc: 0.8631\n",
      "Epoch 65/100\n",
      "8000/8000 [==============================] - 2s 204us/step - loss: 0.3339 - acc: 0.8615\n",
      "Epoch 66/100\n",
      "8000/8000 [==============================] - 2s 211us/step - loss: 0.3339 - acc: 0.8641\n",
      "Epoch 67/100\n",
      "8000/8000 [==============================] - 4s 446us/step - loss: 0.3339 - acc: 0.8644\n",
      "Epoch 68/100\n",
      "8000/8000 [==============================] - 4s 466us/step - loss: 0.3343 - acc: 0.8629\n",
      "Epoch 69/100\n",
      "8000/8000 [==============================] - 4s 467us/step - loss: 0.3341 - acc: 0.8637\n",
      "Epoch 70/100\n",
      "8000/8000 [==============================] - 3s 380us/step - loss: 0.3338 - acc: 0.8626\n",
      "Epoch 71/100\n",
      "8000/8000 [==============================] - 3s 389us/step - loss: 0.3338 - acc: 0.8635\n",
      "Epoch 72/100\n",
      "8000/8000 [==============================] - 3s 420us/step - loss: 0.3337 - acc: 0.8626\n",
      "Epoch 73/100\n",
      "8000/8000 [==============================] - 4s 459us/step - loss: 0.3336 - acc: 0.8645\n",
      "Epoch 74/100\n",
      "8000/8000 [==============================] - 4s 534us/step - loss: 0.3339 - acc: 0.8642\n",
      "Epoch 75/100\n",
      "8000/8000 [==============================] - 4s 504us/step - loss: 0.3336 - acc: 0.8651\n",
      "Epoch 76/100\n",
      "8000/8000 [==============================] - 5s 592us/step - loss: 0.3332 - acc: 0.8627 1s - loss: 0.3297 - a - ETA: 0s - loss: 0.3324 - a\n",
      "Epoch 77/100\n",
      "8000/8000 [==============================] - 4s 540us/step - loss: 0.3335 - acc: 0.8639\n",
      "Epoch 78/100\n",
      "8000/8000 [==============================] - 5s 667us/step - loss: 0.3336 - acc: 0.8624\n",
      "Epoch 79/100\n",
      "8000/8000 [==============================] - 5s 582us/step - loss: 0.3335 - acc: 0.8629\n",
      "Epoch 80/100\n",
      "8000/8000 [==============================] - 4s 460us/step - loss: 0.3331 - acc: 0.8630\n",
      "Epoch 81/100\n"
     ]
    },
    {
     "name": "stdout",
     "output_type": "stream",
     "text": [
      "8000/8000 [==============================] - 3s 366us/step - loss: 0.3336 - acc: 0.8637\n",
      "Epoch 82/100\n",
      "8000/8000 [==============================] - 3s 327us/step - loss: 0.3336 - acc: 0.8644\n",
      "Epoch 83/100\n",
      "8000/8000 [==============================] - 3s 328us/step - loss: 0.3334 - acc: 0.8629\n",
      "Epoch 84/100\n",
      "8000/8000 [==============================] - 4s 474us/step - loss: 0.3337 - acc: 0.8621 0s -\n",
      "Epoch 85/100\n",
      "8000/8000 [==============================] - 2s 311us/step - loss: 0.3329 - acc: 0.8656\n",
      "Epoch 86/100\n",
      "8000/8000 [==============================] - 2s 273us/step - loss: 0.3340 - acc: 0.8640\n",
      "Epoch 87/100\n",
      "8000/8000 [==============================] - 2s 312us/step - loss: 0.3336 - acc: 0.8622\n",
      "Epoch 88/100\n",
      "8000/8000 [==============================] - 2s 261us/step - loss: 0.3334 - acc: 0.8631\n",
      "Epoch 89/100\n",
      "8000/8000 [==============================] - 2s 269us/step - loss: 0.3333 - acc: 0.8646\n",
      "Epoch 90/100\n",
      "8000/8000 [==============================] - 2s 258us/step - loss: 0.3329 - acc: 0.8629\n",
      "Epoch 91/100\n",
      "8000/8000 [==============================] - 2s 257us/step - loss: 0.3330 - acc: 0.8627\n",
      "Epoch 92/100\n",
      "8000/8000 [==============================] - 2s 248us/step - loss: 0.3335 - acc: 0.8611\n",
      "Epoch 93/100\n",
      "8000/8000 [==============================] - 2s 257us/step - loss: 0.3333 - acc: 0.8629\n",
      "Epoch 94/100\n",
      "8000/8000 [==============================] - 2s 259us/step - loss: 0.3330 - acc: 0.8655\n",
      "Epoch 95/100\n",
      "8000/8000 [==============================] - 2s 258us/step - loss: 0.3327 - acc: 0.8647\n",
      "Epoch 96/100\n",
      "8000/8000 [==============================] - 2s 250us/step - loss: 0.3333 - acc: 0.8660\n",
      "Epoch 97/100\n",
      "8000/8000 [==============================] - 2s 274us/step - loss: 0.3327 - acc: 0.8645\n",
      "Epoch 98/100\n",
      "8000/8000 [==============================] - 2s 299us/step - loss: 0.3329 - acc: 0.8655\n",
      "Epoch 99/100\n",
      "8000/8000 [==============================] - 2s 254us/step - loss: 0.3332 - acc: 0.8631\n",
      "Epoch 100/100\n",
      "8000/8000 [==============================] - 2s 254us/step - loss: 0.3328 - acc: 0.8612\n"
     ]
    },
    {
     "data": {
      "text/plain": [
       "<keras.callbacks.History at 0x1a31e93e48>"
      ]
     },
     "execution_count": 10,
     "metadata": {},
     "output_type": "execute_result"
    }
   ],
   "source": [
    "# Adding the input layer and the first hidden layer\n",
    "classifier.add(Dense(units = 6, kernel_initializer = 'uniform', activation = 'relu', input_dim = 11))\n",
    "\n",
    "# Adding the second hidden layer\n",
    "classifier.add(Dense(units = 6, kernel_initializer = 'uniform', activation = 'relu'))\n",
    "\n",
    "# Adding the output layer\n",
    "classifier.add(Dense(units = 1, kernel_initializer = 'uniform', activation = 'sigmoid'))\n",
    "\n",
    "# Compiling the ANN\n",
    "classifier.compile(optimizer = 'adam', loss = 'binary_crossentropy', metrics = ['accuracy'])\n",
    "\n",
    "# Fitting the ANN to the Training set\n",
    "classifier.fit(X_train, y_train, batch_size = 10, epochs = 100)"
   ]
  },
  {
   "cell_type": "code",
   "execution_count": 13,
   "metadata": {},
   "outputs": [],
   "source": [
    "# Predicting the Test set results\n",
    "y_pred = classifier.predict(X_test)\n",
    "y_pred = (y_pred > 0.5)"
   ]
  },
  {
   "cell_type": "code",
   "execution_count": 14,
   "metadata": {},
   "outputs": [],
   "source": [
    "# Making the Confusion Matrix\n",
    "from sklearn.metrics import confusion_matrix\n",
    "cm = confusion_matrix(y_test, y_pred)"
   ]
  },
  {
   "cell_type": "code",
   "execution_count": 16,
   "metadata": {},
   "outputs": [
    {
     "data": {
      "text/plain": [
       "array([[1517,   78],\n",
       "       [ 196,  209]])"
      ]
     },
     "execution_count": 16,
     "metadata": {},
     "output_type": "execute_result"
    }
   ],
   "source": [
    "cm"
   ]
  },
  {
   "cell_type": "code",
   "execution_count": 20,
   "metadata": {},
   "outputs": [],
   "source": [
    "Total_Accuracy = (1517+209)/(1517+78+196+209)"
   ]
  },
  {
   "cell_type": "code",
   "execution_count": 21,
   "metadata": {},
   "outputs": [
    {
     "data": {
      "text/plain": [
       "0.863"
      ]
     },
     "execution_count": 21,
     "metadata": {},
     "output_type": "execute_result"
    }
   ],
   "source": [
    "Total_Accuracy"
   ]
  }
 ],
 "metadata": {
  "kernelspec": {
   "display_name": "Python 3",
   "language": "python",
   "name": "python3"
  },
  "language_info": {
   "codemirror_mode": {
    "name": "ipython",
    "version": 3
   },
   "file_extension": ".py",
   "mimetype": "text/x-python",
   "name": "python",
   "nbconvert_exporter": "python",
   "pygments_lexer": "ipython3",
   "version": "3.7.3"
  }
 },
 "nbformat": 4,
 "nbformat_minor": 2
}
